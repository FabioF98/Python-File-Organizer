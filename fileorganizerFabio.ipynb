{
 "cells": [
  {
   "cell_type": "markdown",
   "id": "3a18f913",
   "metadata": {},
   "source": [
    "## Step 1"
   ]
  },
  {
   "cell_type": "code",
   "execution_count": 1,
   "id": "b5b104dd",
   "metadata": {
    "scrolled": true
   },
   "outputs": [],
   "source": [
    "import csv\n",
    "import os\n",
    "import shutil"
   ]
  },
  {
   "cell_type": "code",
   "execution_count": 2,
   "id": "7ad3518c",
   "metadata": {},
   "outputs": [],
   "source": [
    "# definisco la prima funzione, che mi permetterà di creare le cartelle necessarie se non dovessero essere già presenti\n",
    "def directories_check(path):\n",
    "    subfolders = [\"audio\", \"docs\", \"images\"]\n",
    "    for folder in subfolders:\n",
    "        # ho utilizzato os.makedirs con keyword argument \"exist_ok\" perché  più pulito e leggibile rispetto ad una clausola try/except\n",
    "        os.makedirs(os.path.join(path, folder), exist_ok=True)\n",
    "        # in tutto il programma utilizzo os.path.join perché in questo modo modificando opportunatamente la variabile path il programma funziona su\n",
    "        # qualsiasi sistema operativo"
   ]
  },
  {
   "cell_type": "code",
   "execution_count": 3,
   "id": "4e666411",
   "metadata": {},
   "outputs": [],
   "source": [
    "def files_handling(path):\n",
    "    # itero su os.listdir(path) e tramite una list comprehension creo una lista contenente i nomi di tutti i file all'interno del path specificato\n",
    "    files_list = [name for name in os.listdir(path) if os.path.isfile(os.path.join(path,name))]\n",
    "    # ho creato delle liste di stringhe per le estensioni in modo da poter inserire eventualmente ulteriori estensioni per ogni tipo\n",
    "    images_ext = [\".png\", \".jpg\", \".jpeg\"]\n",
    "    audio_ext = [\".mp3\"]\n",
    "    docs_ext = [\".txt\", \".odt\"]\n",
    "\n",
    "    # apro il file recap.csv in modalità append per fare in modo da creare il file se non dovesse esistere ed allo stesso tempo non sovrascrivelo nel caso in cui \n",
    "    # esista già, con parametro newline per evitare che ci sia un doppio spazio fra le righe\n",
    "    with open(os.path.join(path,\"recap.csv\"), \"a\", newline = \"\") as csv_file:\n",
    "        writer = csv.writer(csv_file)\n",
    "        # if statement che controlla se il file \"recap.csv\" sia già presente, così da non inserire nuovamente l'header\n",
    "        if \"recap.csv\" not in files_list:\n",
    "            writer.writerow([\"Filename\",\"Type\",\"Size(B)\"])\n",
    "\n",
    "        # nel for loop uso la funzione sorted per iterare in ordine alfabetico sui files\n",
    "        for file in sorted(files_list):\n",
    "            # multiple assignment per dividere il nome di ciascun file dalla sua estensione con os.path.splitext\n",
    "            fileName,fileExtension = os.path.splitext(file)\n",
    "            # ottengo la dimensione del file con os.path.getsize, ho cercato di utilizzare nomi appropriati per rendere il programma più leggibile\n",
    "            fileSize = os.path.getsize(os.path.join(path,file))\n",
    "            # controllo la tipologia di ogni file sfruttando le liste di stringhe create prima ed il membership operator\n",
    "            # dopo il controllo stampo le informazioni, le riporto all'interno di recap.csv e sposto il file nella sua cartella\n",
    "            if fileExtension in images_ext:\n",
    "                print(f\"{fileName} type: image size: {fileSize}B\")\n",
    "                writer.writerow([fileName, \"image\", fileSize])\n",
    "                shutil.move(os.path.join(path,file), os.path.join(path,\"images\"))\n",
    "            elif fileExtension in audio_ext:\n",
    "                print(f\"{fileName} type: audio size: {fileSize}B\")\n",
    "                writer.writerow([fileName, \"audio\", fileSize])\n",
    "                shutil.move(os.path.join(path,file), os.path.join(path,\"audio\"))\n",
    "            elif fileExtension in docs_ext:\n",
    "                print(f\"{fileName} type: document size: {fileSize}B\")\n",
    "                writer.writerow([fileName, \"docs\", fileSize])\n",
    "                shutil.move(os.path.join(path,file), os.path.join(path,\"docs\"))"
   ]
  },
  {
   "cell_type": "code",
   "execution_count": 4,
   "id": "2bdca406",
   "metadata": {},
   "outputs": [],
   "source": [
    "# definisco una funzione main() con la variabile locale path al suo interno, ho organizzato il programma in maniera che per farlo funzionare su\n",
    "# un altro computer sia necessario cambiare solo questa variabile. In questo caso la funzione main() non mi sembrava necessaria ma ho voluto aggiungerla\n",
    "# anche per evitare di confondermi tra la variabile locale path e quella globale image_path che mi è servita nello step 3\n",
    "def main():\n",
    "    path = r\"./files\"\n",
    "    directories_check(path)\n",
    "    files_handling(path)"
   ]
  },
  {
   "cell_type": "code",
   "execution_count": 5,
   "id": "24caaf5a",
   "metadata": {},
   "outputs": [
    {
     "name": "stdout",
     "output_type": "stream",
     "text": [
      "bw type: image size: 94926B\n",
      "ciao type: document size: 12B\n",
      "daffodil type: image size: 24657B\n",
      "eclipse type: image size: 64243B\n",
      "pippo type: document size: 8299B\n",
      "song1 type: audio size: 1087849B\n",
      "song2 type: audio size: 764176B\n",
      "trump type: image size: 10195B\n"
     ]
    }
   ],
   "source": [
    "main()"
   ]
  },
  {
   "cell_type": "markdown",
   "id": "2d17e376",
   "metadata": {},
   "source": [
    "## Step 3"
   ]
  },
  {
   "cell_type": "code",
   "execution_count": 6,
   "id": "9f92270f",
   "metadata": {},
   "outputs": [],
   "source": [
    "import numpy as np\n",
    "import os\n",
    "from PIL import Image\n",
    "from tabulate import tabulate\n",
    "\n",
    "# L'ultima parte del programma non è inserita in una funzione perché avrei dovuto passare troppi parametri alle altre funzioni e mi sembrava confusionario,\n",
    "# quindi ho definito delle variabili globali e le ho utilizzate all'interno delle funzioni. "
   ]
  },
  {
   "cell_type": "code",
   "execution_count": 7,
   "id": "234ac9c3",
   "metadata": {},
   "outputs": [],
   "source": [
    "def deal_with_colors():\n",
    "    # ottengo la media dei valori di ogni livello di colore utilizzando il keyword argument \"axis = 0\" per lavorare sulle colonne, lo utilzzo la prima volta\n",
    "    # per ottenere un array con shape (275, 3) ed una seconda volta per ottenere una shape di (3,) contenente la media di ciascun livello di colore\n",
    "    colours_avg = img_array.mean(axis = 0).mean(axis = 0)\n",
    "    # assegno ad ogni chiave del dizionario un valore corrispondente alla rispettiva media, con la funzione round per arrotondare a due decimali\n",
    "    RGBA[\"R\"] = round(colours_avg[0], 2)\n",
    "    RGBA[\"G\"] = round(colours_avg[1], 2)\n",
    "    RGBA[\"B\"] = round(colours_avg[2], 2)\n",
    "    # controllo se l'immagine è RGBA e nel caso assegno un valore che indichi la media di alpha\n",
    "    if len(colours_avg) == 4:\n",
    "        RGBA[\"ALPHA\"] = round(colours_avg[3], 2)"
   ]
  },
  {
   "cell_type": "code",
   "execution_count": 8,
   "id": "8870317e",
   "metadata": {},
   "outputs": [],
   "source": [
    "# definisco le informazioni relative ad ogni immagine e creo una lista di stringhe da trasferire all'interno della lista table\n",
    "def adding_info():\n",
    "    info = [imgName, height, width, RGBA[\"grayscale\"], RGBA[\"R\"], RGBA[\"G\"], RGBA[\"B\"], RGBA[\"ALPHA\"]]\n",
    "    table.append(info)"
   ]
  },
  {
   "cell_type": "code",
   "execution_count": 9,
   "id": "e18429d9",
   "metadata": {},
   "outputs": [],
   "source": [
    "# anche in questo caso la variabile image_path è l'unica da cambiare per utilizzare il programma su un altro computer\n",
    "image_path = r\"./files/images\"\n",
    "# ho utilizzato una clasuola try/except nel caso in cui il path dovesse essere sbagliato o la cartella dovesse essere inesistente\n",
    "try :\n",
    "    files_list = [name for name in os.listdir(image_path) if os.path.isfile(os.path.join(image_path, name))]\n",
    "except FileNotFoundError:\n",
    "    folder = os.path.basename(image_path)\n",
    "    # In caso di errore FileNotFoundError stampo le informazioni che potrebbero essere più utili per risolverlo\n",
    "    print(f\"\"\"Invalid path, please check that the path : \"{image_path}\" is valid and that the folder \"{folder}\" exists\"\"\")\n",
    "# creo una lista vuota table, che diventerà una lista di liste e che al termine verrà passata alla funzione tabulate\n",
    "table = []\n",
    "header = [\"name\", \"height\", \"width\", \"grayscale\", \"R\", \"G\", \"B\", \"ALPHA\"]\n",
    "# creo l'header con i parametri necessari e lo inserisco come primo elemento della lista table\n",
    "table.append(header)"
   ]
  },
  {
   "cell_type": "code",
   "execution_count": 10,
   "id": "8382a5e7",
   "metadata": {},
   "outputs": [],
   "source": [
    "# itero sulla lista files_list e, dopo aver aperto l'immagine con la funzione Image e  passato a numpy.array l'immagine per trasformarla in un array,\n",
    "# definisco delle variabili globali contenti le informazioni relative ad ogni immagine (array,dimensione, shape, altezza, larghezza)\n",
    "for filename in files_list:\n",
    "    imgName, imgExtension = os.path.splitext(filename)\n",
    "    img = Image.open(os.path.join(image_path,filename))\n",
    "    img_array = np.array(img)\n",
    "    dimensions = img_array.ndim\n",
    "    shape = img_array.shape\n",
    "    height = shape[0]\n",
    "    width = shape[1]\n",
    "    # Ho utilizzato un dizionario in maniera da avere tutti i parametri impostati a zero di default, per poi cambiarli in base al contenuto di ogni immagine\n",
    "    RGBA = {\"grayscale\" : 0, \"R\" : 0, \"G\" : 0, \"B\" : 0, \"ALPHA\" : 0}\n",
    "    # if statement per distinguere tra immagini in bianco e nero e quelle a colori\n",
    "    if dimensions == 2:\n",
    "        # modifico l'unico parametro dell'immagine in scala di grigio, utilizzando il metodo mean() del numpy array, ed utilizzo round per arrotondare il risultato\n",
    "        RGBA[\"grayscale\"] = round(img_array.mean(), 2)\n",
    "        adding_info()\n",
    "    # la distinzione fra RGB ed RGBA viene fatta all'interno della funzione deal_with_colors() quindi qui passo semplicemente l'array alla funzione\n",
    "    elif dimensions == 3:\n",
    "        deal_with_colors()\n",
    "        adding_info()"
   ]
  },
  {
   "cell_type": "code",
   "execution_count": 11,
   "id": "d001ef40",
   "metadata": {},
   "outputs": [
    {
     "name": "stdout",
     "output_type": "stream",
     "text": [
      "--------  ------  -----  ---------  ------  ------  -----  ------\n",
      "name      height  width  grayscale  R       G       B      ALPHA\n",
      "bw        512     512    21.48      0       0       0      0\n",
      "daffodil  500     335    0          109.25  85.56   4.97   0\n",
      "eclipse   256     256    0          109.05  109.52  39.85  133.59\n",
      "trump     183     275    0          97.01   98.99   90.92  0\n",
      "--------  ------  -----  ---------  ------  ------  -----  ------\n"
     ]
    }
   ],
   "source": [
    "# stampo la lista table completa dopo averla passata alla funzione tabulate\n",
    "print(tabulate(table))"
   ]
  }
 ],
 "metadata": {
  "kernelspec": {
   "display_name": "Python 3",
   "language": "python",
   "name": "python3"
  },
  "language_info": {
   "codemirror_mode": {
    "name": "ipython",
    "version": 3
   },
   "file_extension": ".py",
   "mimetype": "text/x-python",
   "name": "python",
   "nbconvert_exporter": "python",
   "pygments_lexer": "ipython3",
   "version": "3.8.5"
  }
 },
 "nbformat": 4,
 "nbformat_minor": 5
}
